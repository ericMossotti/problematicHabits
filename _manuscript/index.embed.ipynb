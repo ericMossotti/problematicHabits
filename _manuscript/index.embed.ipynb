{
 "cells": [
  {
   "cell_type": "markdown",
   "metadata": {},
   "source": [
    "# Problematic Internet Habits in Children\n",
    "\n",
    "Eric Mossotti (None)"
   ],
   "id": "3675a7e7-e022-4545-aac3-ca66ba02a6d0"
  },
  {
   "cell_type": "code",
   "execution_count": null,
   "metadata": {},
   "outputs": [],
   "source": [
    "!kaggle competitions download -c child-mind-institute-problematic-internet-use "
   ],
   "id": "8ff0a885-75e8-450e-81dd-165a214ffc1a"
  },
  {
   "cell_type": "code",
   "execution_count": null,
   "metadata": {},
   "outputs": [],
   "source": [
    "from zipfile import ZipFile\n",
    "import os\n",
    "import duckdb\n",
    "import pandas as pd\n",
    "from colorama import Fore, Style\n",
    "import re"
   ],
   "id": "131032d6-e37c-45d2-af31-15879ba9b1a3"
  },
  {
   "cell_type": "code",
   "execution_count": null,
   "metadata": {},
   "outputs": [
    {
     "output_type": "stream",
     "name": "stdout",
     "text": [
      "data exists"
     ]
    }
   ],
   "source": [
    "try:\n",
    "  os.mkdir('data')\n",
    "except FileExistsError:\n",
    "  print(f\"data exists\")"
   ],
   "id": "9f506a6d-44f9-4c12-9454-7404d7e49d8a"
  },
  {
   "cell_type": "code",
   "execution_count": null,
   "metadata": {},
   "outputs": [
    {
     "output_type": "stream",
     "name": "stdout",
     "text": [
      "files were already extracted\n",
      "\n",
      "                    data\n",
      "0               test.csv\n",
      "1    data_dictionary.csv\n",
      "2  sample_submission.csv\n",
      "3    series_test.parquet\n",
      "4   series_train.parquet\n",
      "5              train.csv"
     ]
    }
   ],
   "source": [
    "zip_path = \"child-mind-institute-problematic-internet-use.zip\"\n",
    "\n",
    "if not os.path.exists('data/train.csv'):\n",
    "  with ZipFile(zip_path) as zf:\n",
    "    ZipFile.extractall(zf, path = 'data')\n",
    "    print(\n",
    "      f\"files were extracted\"\n",
    "      ,pd.DataFrame(data = os.listdir('data'), columns = ['data'])\n",
    "      ,sep = \"\\n\"*2\n",
    "      )\n",
    "else:\n",
    "  print(\n",
    "    f\"files were already extracted\"\n",
    "    ,pd.DataFrame(data = os.listdir('data'), columns = ['data'])\n",
    "    ,sep = \"\\n\"*2\n",
    "    )"
   ],
   "id": "16b7cdc4-aa7e-4e88-a8ff-1d27a7a153fa"
  },
  {
   "cell_type": "markdown",
   "metadata": {},
   "source": [
    "## Open Connection"
   ],
   "id": "81453d27-c7a8-477c-a953-8fcbcd58208b"
  },
  {
   "cell_type": "code",
   "execution_count": null,
   "metadata": {},
   "outputs": [],
   "source": [
    "conn = duckdb.connect(':memory:')\n",
    "conn.sql(f\"SET memory_limit = '24GB';\")\n",
    "conn.sql(f\"SET default_order = 'ASC';\")"
   ],
   "id": "e35e4e84-c347-4862-a953-108d51f14ed7"
  },
  {
   "cell_type": "markdown",
   "metadata": {},
   "source": [
    "## Enumerate"
   ],
   "id": "edcfa8f9-4642-4bca-8244-5bd974923b9d"
  },
  {
   "cell_type": "code",
   "execution_count": null,
   "metadata": {},
   "outputs": [
    {
     "output_type": "stream",
     "name": "stdout",
     "text": [
      "drops and creates are same length"
     ]
    }
   ],
   "source": [
    "enums = ['internet_hours_enum'\n",
    "         ,'enroll_season_enum'\n",
    "         ,'disease_risk_enum'\n",
    "         ,'sii_enum', 'age_enum'\n",
    "         ,'sex_enum'\n",
    "         ,'pciat_season_enum'\n",
    "         ,'weekday_enum'\n",
    "         ,'quarter_enum'\n",
    "         ,'hour_enum'\n",
    "         ,'minute_enum'\n",
    "         ,'second_enum'\n",
    "         ,'id_actigraphy_enum']\n",
    "\n",
    "#siiSeries = pd.Series(data = ['None', 'Mild', 'Moderate', 'Severe'], dtype = str)\n",
    "siiSeries = pd.Series(data = ['0', '1', '2', '3'], dtype = str)\n",
    "ageSeries = pd.Series(data = range(5, 23), dtype = str)\n",
    "sexSeries = pd.Series(data = ['0', '1'], dtype = str)\n",
    "pciatSeasonSeries = pd.Series(data = ['Fall', 'Spring', 'Summer', 'Winter'], dtype = str)\n",
    "internetHrsSeries = pd.Series(data = ['0', '1', '2', '3'], dtype = str)\n",
    "quarterSeries = pd.Series(data = range(1, 5), dtype = str)\n",
    "weekdaySeries = pd.Series(data = range(1, 8), dtype = str)\n",
    "hourSeries = pd.Series(data = range(0, 24), dtype = str)\n",
    "minuteSeries = pd.Series(data = range(0, 60), dtype = str)\n",
    "secondSeries = pd.Series(data = range(0, 60), dtype = str)\n",
    "diseaseRiskSeries = pd.Series(data = ['Underweight'\n",
    "                                      ,'Normal'\n",
    "                                      ,'Increased'\n",
    "                                      ,'High'\n",
    "                                      ,'Very High'\n",
    "                                      ,'Extremely High'], dtype = str)\n",
    "\n",
    "id_df = conn.execute(f\"\"\"\n",
    "     SELECT \n",
    "         DISTINCT(id) AS id\n",
    "     FROM \n",
    "         read_parquet('data/series_train*/*/*'\n",
    "         ,hive_partitioning = true)\n",
    "     ORDER BY \n",
    "         id ASC;\n",
    "     \"\"\").df() \n",
    "\n",
    "idList = id_df['id'].to_list()\n",
    "idSeries = pd.Series(data = idList, dtype = str)\n",
    "\n",
    "enumDict = {\n",
    "  'disease_risk_enum': f\"{tuple(diseaseRiskSeries)}\"\n",
    "  ,'enroll_season_enum': f\"{tuple(pciatSeasonSeries)}\"\n",
    "  ,'sii_enum': f\"{tuple(siiSeries)}\"\n",
    "  ,'age_enum': f\"{tuple(ageSeries)}\"\n",
    "  ,'sex_enum': f\"{tuple(sexSeries)}\"\n",
    "  ,'pciat_season_enum': f\"{tuple(pciatSeasonSeries)}\"\n",
    "  ,'quarter_enum': f\"{tuple(quarterSeries)}\"\n",
    "  ,'weekday_enum': f\"{tuple(weekdaySeries)}\"\n",
    "  ,'hour_enum': f\"{tuple(hourSeries)}\"\n",
    "  ,'minute_enum': f\"{tuple(minuteSeries)}\"\n",
    "  ,'second_enum': f\"{tuple(secondSeries)}\"\n",
    "  ,'id_actigraphy_enum': f\"{tuple(idSeries)}\"\n",
    "  ,'internet_hours_enum': f\"{tuple(internetHrsSeries)}\"\n",
    "  }\n",
    "\n",
    "if len(enumDict) == len(enums):\n",
    "    print(f\"drops and creates are same length\")\n",
    "else:\n",
    "  print(f\"drops and creates are not the same length\")"
   ],
   "id": "01fe35c2-b509-48b0-9aef-e01458943f93"
  },
  {
   "cell_type": "code",
   "execution_count": null,
   "metadata": {},
   "outputs": [],
   "source": [
    "\n",
    "def try_create(conn, type_str: str, enum_str: str) -> pd.Series:\n",
    "  try:\n",
    "    conn.execute(f\"CREATE TYPE {type_str} AS ENUM {enum_str};\")\n",
    "    return pd.Series(type_str, index = ['created'])\n",
    "  except duckdb.duckdb.CatalogException:\n",
    "    return pd.Series(type_str, index = ['already existo'])\n",
    "\n",
    "def try_drop(conn, type_str: str) -> pd.Series:\n",
    "  try:\n",
    "    conn.execute(f\"DROP TYPE {type_str};\")\n",
    "    return pd.Series(type_str, index = ['dropped'])\n",
    "  except duckdb.duckdb.CatalogException:\n",
    "    return pd.Series(type_str, index = ['could not drop'])"
   ],
   "id": "102c540e-24e1-407a-80c5-15d74162a78c"
  },
  {
   "cell_type": "code",
   "execution_count": null,
   "metadata": {},
   "outputs": [
    {
     "output_type": "stream",
     "name": "stdout",
     "text": [
      "         could not drop              created\n",
      "0              age_enum             age_enum\n",
      "1     disease_risk_enum    disease_risk_enum\n",
      "2    enroll_season_enum   enroll_season_enum\n",
      "3             hour_enum            hour_enum\n",
      "4    id_actigraphy_enum   id_actigraphy_enum\n",
      "5   internet_hours_enum  internet_hours_enum\n",
      "6           minute_enum          minute_enum\n",
      "7     pciat_season_enum    pciat_season_enum\n",
      "8          quarter_enum         quarter_enum\n",
      "9           second_enum          second_enum\n",
      "10             sex_enum             sex_enum\n",
      "11             sii_enum             sii_enum\n",
      "12         weekday_enum         weekday_enum"
     ]
    }
   ],
   "source": [
    "droplist = []\n",
    "for e in enums:   \n",
    "   droplist.append(try_drop(conn, type_str = e))\n",
    "   \n",
    "dropFrame = pd.DataFrame(droplist)\n",
    "dropFrame = dropFrame.sort_values(by = dropFrame.columns.to_list()\n",
    "                                  ,ascending=True\n",
    "                                  ,ignore_index=True)\n",
    "createList = []\n",
    "for eType, eSeries in enumDict.items():\n",
    "    createList.append(try_create(conn\n",
    "                                 ,type_str = eType\n",
    "                                 ,enum_str = eSeries))\n",
    "createFrame = pd.DataFrame(createList)\n",
    "createFrame = createFrame.sort_values(by = createFrame.columns.to_list()\n",
    "                                      ,ascending=True\n",
    "                                      ,ignore_index=True)\n",
    "\n",
    "pd.concat([dropFrame, createFrame], axis = 1)"
   ],
   "id": "179b4835-d1c1-48da-98a9-0848f2a2032d"
  },
  {
   "cell_type": "code",
   "execution_count": null,
   "metadata": {},
   "outputs": [],
   "source": [
    "trainCsvDf = pd.read_csv(\"data/train.csv\")\n",
    "testCsvDf = pd.read_csv(\"data/test.csv\")\n",
    "dictDf = pd.read_csv(\"data/data_dictionary.csv\")"
   ],
   "id": "92cf1073-8858-4713-9b55-690f32133061"
  },
  {
   "cell_type": "code",
   "execution_count": null,
   "metadata": {},
   "outputs": [],
   "source": [
    "trainCsvDf.columns = trainCsvDf.columns.str.replace('-','_') \n",
    "trainCsvDf.columns = trainCsvDf.columns.str.lower() \n",
    "testCsvDf.columns = testCsvDf.columns.str.replace('-','_') \n",
    "testCsvDf.columns = testCsvDf.columns.str.lower() \n",
    "\n",
    "dictDf.Field = dictDf.Field.replace(\"-\", \"_\", regex = True)\n",
    "\n",
    "csvDict = {\n",
    "  \"TrainCsv\": trainCsvDf\n",
    "  ,\"TestCsv\": testCsvDf\n",
    "  ,\"DataDict\": dictDf\n",
    "  }\n",
    "\n",
    "parquetDict = {\n",
    "  \"ActigraphyTrain\": 'data//series_train.parquet*/*/*'\n",
    "  ,\"ActigraphyTest\": 'data//series_test*/*/*'\n",
    "  }"
   ],
   "id": "5731e4f8-20f1-4b08-9f7f-1a3b51e1fbe3"
  },
  {
   "cell_type": "markdown",
   "metadata": {},
   "source": [
    "## Setup Database Pipeline"
   ],
   "id": "9fa5edf6-1b6c-4c6e-92b0-639a001842cc"
  },
  {
   "cell_type": "code",
   "execution_count": null,
   "metadata": {},
   "outputs": [],
   "source": [
    "def setup_duckdb_pipeline(\n",
    "  csvDict: dict, \n",
    "  parquetDict: dict, \n",
    "  conn: duckdb.DuckDBPyConnection) -> None:\n",
    "  try:\n",
    "    {\n",
    "      table_name: duckdb.sql(f\"\"\"\n",
    "      CREATE OR REPLACE TABLE {table_name} AS \n",
    "      SELECT \n",
    "        *\n",
    "      FROM \n",
    "        df;\n",
    "      \"\"\", connection = conn) \n",
    "      for table_name, df in csvDict.items()\n",
    "      }\n",
    "    for key, value in csvDict.items():\n",
    "      result = conn.execute(f\"SELECT COUNT(*) FROM {key}\").fetchone()\n",
    "      print(\n",
    "        Style.BRIGHT + f\"Successfully created table:\"\n",
    "        ,Style.NORMAL + Fore.LIGHTYELLOW_EX + f\"{key},\"\n",
    "        ,Style.BRIGHT + Fore.RESET + f\"Row count:\"\n",
    "        ,Style.NORMAL + Fore.CYAN + f\"{result[0]}\"\n",
    "        ,Fore.RESET\n",
    "        )\n",
    "  except Exception as e:\n",
    "    print(f\"Error loading table: {str(e)}\")\n",
    "    raise\n",
    "  \n",
    "  if parquetDict:\n",
    "    write_datasets(conn, parquetDict)\n",
    "  \n",
    "# Create tables from Parquet files\n",
    "def write_datasets (\n",
    "  conn: duckdb.DuckDBPyConnection, parquetDict: dict):\n",
    "      try:\n",
    "        {\n",
    "          table_name: duckdb.sql(f\"\"\"\n",
    "           CREATE OR REPLACE TABLE {table_name} AS\n",
    "           SELECT \n",
    "             id::id_actigraphy_enum AS id\n",
    "             ,quarter::TEXT::quarter_enum AS quarter\n",
    "             ,weekday::TEXT::weekday_enum AS weekday\n",
    "             ,light\n",
    "             ,time_of_day\n",
    "             ,relative_date_PCIAT\n",
    "           FROM read_parquet(\n",
    "             '{file_path}'\n",
    "             ,hive_partitioning = true\n",
    "             );\"\"\", connection=conn)\n",
    "           for table_name, file_path in parquetDict.items()\n",
    "           }\n",
    "        #{name: conn.register(\n",
    "        #  name, dataSet) for name, dataSet in parquetDict.items()}\n",
    "        for key, value in parquetDict.items():\n",
    "          result = conn.execute(f\"SELECT COUNT(*) FROM {key}\").fetchone()\n",
    "          print(\n",
    "            Style.BRIGHT + f\"Successfully created table:\"\n",
    "            ,Style.NORMAL + Fore.LIGHTBLUE_EX + f\"{key},\"\n",
    "            ,Style.BRIGHT + Fore.RESET + f\"Row count:\"\n",
    "            ,Style.NORMAL + Fore.LIGHTGREEN_EX + f\"{result[0]}\"\n",
    "            ,Fore.RESET\n",
    "            )\n",
    "      except Exception as e:\n",
    "        print(f\"Error writing dataset: {str(e)}\")\n",
    "        raise"
   ],
   "id": "034e41af-9ca6-4b7c-93d9-0b103b56f6f8"
  },
  {
   "cell_type": "code",
   "execution_count": null,
   "metadata": {},
   "outputs": [
    {
     "output_type": "stream",
     "name": "stdout",
     "text": [
      "\u001b[1mSuccessfully created table: \u001b[22m\u001b[93mTrainCsv, \u001b[1m\u001b[39mRow count: \u001b[22m\u001b[36m3960 \u001b[39m\n",
      "\u001b[1mSuccessfully created table: \u001b[22m\u001b[93mTestCsv, \u001b[1m\u001b[39mRow count: \u001b[22m\u001b[36m20 \u001b[39m\n",
      "\u001b[1mSuccessfully created table: \u001b[22m\u001b[93mDataDict, \u001b[1m\u001b[39mRow count: \u001b[22m\u001b[36m81 \u001b[39m\n",
      "\u001b[1mSuccessfully created table: \u001b[22m\u001b[94mActigraphyTrain, \u001b[1m\u001b[39mRow count: \u001b[22m\u001b[92m314569149 \u001b[39m\n",
      "\u001b[1mSuccessfully created table: \u001b[22m\u001b[94mActigraphyTest, \u001b[1m\u001b[39mRow count: \u001b[22m\u001b[92m439726 \u001b[39m"
     ]
    }
   ],
   "source": [
    "setup_duckdb_pipeline(csvDict, parquetDict, conn)"
   ],
   "id": "3fbc8c43-f805-4838-9736-80d3d11d52cc"
  },
  {
   "cell_type": "code",
   "execution_count": null,
   "metadata": {},
   "outputs": [
    {
     "output_type": "stream",
     "name": "stdout",
     "text": [
      "┌─────────┐\n",
      "│ Success │\n",
      "│ boolean │\n",
      "├─────────┤\n",
      "│ 0 rows  │\n",
      "└─────────┘"
     ]
    }
   ],
   "source": [
    "conn.sql(f\"CHECKPOINT;\")"
   ],
   "id": "b73795be-ddf4-46c9-8020-a74c4c96c6b7"
  },
  {
   "cell_type": "code",
   "execution_count": null,
   "metadata": {},
   "outputs": [],
   "source": [
    "coltype_overview = conn.execute(f\"\"\"\n",
    "  SELECT \n",
    "    column_name\n",
    "    ,data_type\n",
    "  FROM \n",
    "    information_schema.columns\n",
    "  WHERE \n",
    "    table_name = 'TrainCsv';\"\"\").df()\n",
    "\n",
    "# map the column names with data types\n",
    "col_dict = dict(zip(coltype_overview.column_name, coltype_overview.data_type))"
   ],
   "id": "1d9fce53-cd6a-42e4-8748-31c1bac38908"
  },
  {
   "cell_type": "code",
   "execution_count": null,
   "metadata": {},
   "outputs": [],
   "source": [
    "regex_dict_train = {\n",
    "  \"Demographic\": r\"^id|^sii|^basic\\S+\"\n",
    "  ,\"Physical\": r\"^id|^sii|^physical\\S+\"\n",
    "  ,\"FgVital\": r\"^id|^sii|^fitness_E\\S+\"\n",
    "  ,\"FgChild\": r\"^id|^sii|^fgc\\S+\"\n",
    "  ,\"Bia\": r\"^id|^sii|^bia\\S+\"\n",
    "  ,\"Paqa\": r\"^id|^sii|^paq_a\\S+\"\n",
    "  ,\"Pciat\": r\"^id|^sii|^pciat\\S+\"\n",
    "  ,\"Sds\": r\"^id|^sii|^sds\\S+\"\n",
    "  ,\"InternetUse\": r\"^id|^sii|^preint\\S+\"\n",
    "  }\n",
    "\n",
    "regex_dict_test = {\n",
    "  \"Demographic_OfTest\": r\"^id|^basic\\S+\"\n",
    "  ,\"Physical_OfTest\": r\"^id|^physical\\S+\"\n",
    "  ,\"FgVital_OfTest\": r\"^id|^fitness_E\\S+\"\n",
    "  ,\"FgChild_OfTest\": r\"^id|^fgc\\S+\"\n",
    "  ,\"Bia_OfTest\": r\"^id|^bia\\S+\"\n",
    "  ,\"Paqa_OfTest\": r\"^id|^paq_a\\S+\"\n",
    " # ,\"Pciat_OfTest\": r\"^id|^pciat\\S+\" \n",
    "  ,\"Sds_OfTest\": r\"^id|^sds\\S+\"\n",
    "  ,\"InternetUse_OfTest\": r\"^id|^preint\\S+\"\n",
    "  }"
   ],
   "id": "6a6e13e8-89ed-4025-93e6-3a28b35123c7"
  },
  {
   "cell_type": "markdown",
   "metadata": {},
   "source": [
    "## Parameterizing Database Tables"
   ],
   "id": "e71d6442-2be0-4b1c-bdbe-6f442d801365"
  },
  {
   "cell_type": "code",
   "execution_count": null,
   "metadata": {},
   "outputs": [],
   "source": [
    "\n",
    "def filter_columns_by_regex(col_dict: dict, regex_pattern: str) -> dict:\n",
    "  \"\"\"\n",
    "  Filter column dictionary based on a regex pattern\n",
    "  \"\"\"\n",
    "  return {\n",
    "    col: dtype \n",
    "    for col, dtype in col_dict.items() \n",
    "    if re.search(regex_pattern, col)\n",
    "    }\n",
    "\n",
    "def create_table_with_regex_columns(\n",
    "  conn: duckdb.duckdb\n",
    "  ,source_table: str\n",
    "  ,new_table_name: str \n",
    "  ,regex_pattern: str \n",
    "  ,col_dict: dict\n",
    "  ) -> None:  \n",
    "  \"\"\"\n",
    "  Create a new table with columns matching a regex pattern\n",
    "  \"\"\"\n",
    "  # filter columns\n",
    "  filtered_col_dict = filter_columns_by_regex(col_dict, regex_pattern)\n",
    "  \n",
    "  # regex column selecting via dict comprehension\n",
    "  regex_select_sql = f\"\"\"\n",
    "  CREATE OR REPLACE TABLE {new_table_name} AS \n",
    "  SELECT\n",
    "    {', '.join([f'\"{col}\"' for col in filtered_col_dict.keys()])}\n",
    "  FROM {source_table};\n",
    "  \"\"\"\n",
    "\n",
    "  conn.execute(regex_select_sql)"
   ],
   "id": "2dc1f68c-b1d0-4be8-afca-4ced2512b11b"
  },
  {
   "cell_type": "code",
   "execution_count": null,
   "metadata": {},
   "outputs": [],
   "source": [
    "for new_table_name, regex_pattern in regex_dict_train.items():\n",
    "  create_table_with_regex_columns(\n",
    "    conn \n",
    "    ,'TrainCsv'\n",
    "    ,new_table_name\n",
    "    ,regex_pattern\n",
    "    ,col_dict\n",
    "    ) \n",
    "\n",
    "for new_table_name, regex_pattern in regex_dict_test.items():\n",
    "  create_table_with_regex_columns(\n",
    "    conn\n",
    "    ,'TestCsv'\n",
    "    ,new_table_name\n",
    "    ,regex_pattern \n",
    "    ,col_dict\n",
    "    )"
   ],
   "id": "54b0cf34-c817-4163-88fe-b729d11fed89"
  },
  {
   "cell_type": "code",
   "execution_count": null,
   "metadata": {},
   "outputs": [
    {
     "output_type": "stream",
     "name": "stdout",
     "text": [
      "         id quarter weekday      light     time_of_day  relative_date_PCIAT\n",
      "0  00115b9f       3       4  53.000000  56940000000000                 41.0\n",
      "1  00115b9f       3       4  51.666668  56945000000000                 41.0\n",
      "2  00115b9f       3       4  50.333332  56950000000000                 41.0\n",
      "3  00115b9f       3       4  50.500000  56955000000000                 41.0\n",
      "4  00115b9f       3       4  33.166668  57235000000000                 41.0\n",
      "5  00115b9f       3       4  31.333334  57240000000000                 41.0\n",
      "6  00115b9f       3       4  29.500000  57245000000000                 41.0\n",
      "7  00115b9f       3       4  27.666666  57250000000000                 41.0\n",
      "8  00115b9f       3       4  25.833334  57255000000000                 41.0\n",
      "9  00115b9f       3       4  24.000000  57260000000000                 41.0"
     ]
    }
   ],
   "source": [
    "conn.sql(f\"select * from ActigraphyTest limit 10;\").df()"
   ],
   "id": "24bff220-42b5-410c-aa18-09ddca9f411d"
  },
  {
   "cell_type": "code",
   "execution_count": null,
   "metadata": {},
   "outputs": [],
   "source": [
    "# 3.6e+12\n",
    "conn.sql(f\"\"\"\n",
    "CREATE OR REPLACE TABLE ActigraphyTest AS\n",
    "SELECT\n",
    "  id\n",
    "  ,light\n",
    "  ,weekday\n",
    "  ,quarter\n",
    "  ,(time_of_day / 3_600_000_000_000) AS hour_of_day\n",
    "FROM \n",
    "  ActigraphyTest;\n",
    "\"\"\")"
   ],
   "id": "fc4ba563-41d4-4658-bb8e-dbf44f4cbabd"
  },
  {
   "cell_type": "code",
   "execution_count": null,
   "metadata": {},
   "outputs": [
    {
     "output_type": "stream",
     "name": "stdout",
     "text": [
      "┌─────────┐\n",
      "│ Success │\n",
      "│ boolean │\n",
      "├─────────┤\n",
      "│ 0 rows  │\n",
      "└─────────┘"
     ]
    }
   ],
   "source": [
    "# 3.6e+12\n",
    "conn.sql(f\"\"\"\n",
    "CREATE OR REPLACE TABLE ActigraphyTrain AS\n",
    "SELECT\n",
    " id\n",
    " ,light\n",
    " ,weekday\n",
    " ,quarter\n",
    " ,(time_of_day / 3_600_000_000_000) AS hour_of_day\n",
    "FROM \n",
    "  ActigraphyTrain;\n",
    "\"\"\")\n",
    "\n",
    "conn.sql(f\"CHECKPOINT;\")"
   ],
   "id": "f0c1564c-1f05-42e4-989a-922b046a262b"
  },
  {
   "cell_type": "code",
   "execution_count": null,
   "metadata": {},
   "outputs": [
    {
     "output_type": "stream",
     "name": "stdout",
     "text": [
      "         id      light weekday quarter  hour_of_day\n",
      "0  00115b9f  53.000000       4       3    15.816667\n",
      "1  00115b9f  51.666668       4       3    15.818056\n",
      "2  00115b9f  50.333332       4       3    15.819444\n",
      "3  00115b9f  50.500000       4       3    15.820833\n",
      "4  00115b9f  33.166668       4       3    15.898611\n",
      "5  00115b9f  31.333334       4       3    15.900000\n",
      "6  00115b9f  29.500000       4       3    15.901389\n",
      "7  00115b9f  27.666666       4       3    15.902778\n",
      "8  00115b9f  25.833334       4       3    15.904167\n",
      "9  00115b9f  24.000000       4       3    15.905556"
     ]
    }
   ],
   "source": [
    "conn.sql(f\"SELECT * FROM ActigraphyTrain LIMIT 10;\").df()"
   ],
   "id": "3a5f846a-e5e2-401d-9597-c9072d596eac"
  },
  {
   "cell_type": "code",
   "execution_count": null,
   "metadata": {},
   "outputs": [
    {
     "output_type": "stream",
     "name": "stdout",
     "text": [
      "┌─────────┐\n",
      "│ Success │\n",
      "│ boolean │\n",
      "├─────────┤\n",
      "│ 0 rows  │\n",
      "└─────────┘"
     ]
    }
   ],
   "source": [
    "conn.sql(f\"\"\"\n",
    "CREATE OR REPLACE TABLE IntermediateActigraphy AS\n",
    "SELECT\n",
    "  id\n",
    "  ,basic_demos_enroll_season::TEXT::enroll_season_enum AS enroll_season\n",
    "  ,basic_demos_age::TEXT::age_enum AS age\n",
    "  ,basic_demos_sex::TEXT AS sex\n",
    "  ,sii::INTEGER::TEXT::sii_enum AS sii\n",
    "FROM \n",
    "  Demographic\n",
    "ORDER BY\n",
    "  id ASC;\n",
    "\"\"\")\n",
    "\n",
    "conn.sql(f\"CHECKPOINT;\")"
   ],
   "id": "ab6d63ef-3800-48d5-91f6-bd07e6d3374b"
  },
  {
   "cell_type": "code",
   "execution_count": null,
   "metadata": {},
   "outputs": [
    {
     "output_type": "stream",
     "name": "stdout",
     "text": [
      "┌─────────┐\n",
      "│ Success │\n",
      "│ boolean │\n",
      "├─────────┤\n",
      "│ 0 rows  │\n",
      "└─────────┘"
     ]
    }
   ],
   "source": [
    "conn.sql(f\"\"\"\n",
    "CREATE OR REPLACE TABLE \n",
    "  ActigraphyTrain\n",
    "AS\n",
    "  SELECT\n",
    "    ia.*\n",
    "    ,at.hour_of_day\n",
    "    ,at.light\n",
    "  FROM \n",
    "    ActigraphyTrain at \n",
    "  LEFT JOIN \n",
    "    IntermediateActigraphy ia\n",
    "  ON \n",
    "    ia.id = at.id;\n",
    "\"\"\")\n",
    "\n",
    "conn.sql(f\"CHECKPOINT;\")"
   ],
   "id": "5b167848-546f-45c9-98e6-3df11772b944"
  },
  {
   "cell_type": "code",
   "execution_count": null,
   "metadata": {},
   "outputs": [],
   "source": [
    "def quartiler (\n",
    "  conn: duckdb.duckdb, \n",
    "  col_name: str, \n",
    "  source_name: str) -> dict:\n",
    "  \"\"\"\n",
    "  ::returns:: \n",
    "    A dictionary with values represented by intuitive key labels.\n",
    "  \"\"\"\n",
    "\n",
    "  summaryDf = conn.sql(f\"\"\"\n",
    "  SUMMARIZE\n",
    "  SELECT\n",
    "    {col_name}\n",
    "  FROM \n",
    "    {source_name};\"\"\").df()\n",
    "\n",
    "  quartileDict = {\n",
    "    'min': summaryDf['min'][0]\n",
    "    ,'Q1': summaryDf.q25[0]\n",
    "    ,'Q2': summaryDf.q50[0]\n",
    "    ,'Q3': summaryDf.q75[0]\n",
    "    ,'max': summaryDf['max'][0]\n",
    "    }\n",
    "  \n",
    "  return quartileDict"
   ],
   "id": "ab5678ad-c4d0-40d0-83e5-cd82fb565dec"
  },
  {
   "cell_type": "code",
   "execution_count": null,
   "metadata": {},
   "outputs": [],
   "source": [
    "quarters = quartiler(conn, 'hour_of_day', 'ActigraphyTrain')"
   ],
   "id": "41e3a9b6-b746-4214-beee-e2f8d6c3713a"
  },
  {
   "cell_type": "code",
   "execution_count": null,
   "metadata": {},
   "outputs": [],
   "source": [
    "quartuples = pd.Series(\n",
    "  data = \n",
    "  [('min','Q1')\n",
    "  ,('Q1', 'Q2')\n",
    "  ,('Q2', 'Q3')\n",
    "  ,('Q3' ,'max')]\n",
    "  ,index =\n",
    "  ['min_q1'\n",
    "  ,'q1_q2'\n",
    "  ,'q2_q3'\n",
    "  ,'q3_max'])"
   ],
   "id": "0b8354a2-d2dc-4b7f-b935-61c05df4c863"
  },
  {
   "cell_type": "markdown",
   "metadata": {},
   "source": [
    "## Light"
   ],
   "id": "e817d61f-b164-4648-8479-e5f70eaf99d0"
  },
  {
   "cell_type": "code",
   "execution_count": null,
   "metadata": {},
   "outputs": [],
   "source": [
    "def intermediateLighter(\n",
    "  conn: duckdb.duckdb, \n",
    "  new_tables: list, \n",
    "  quarters: dict, \n",
    "  quartuples: pd.Series) -> None:\n",
    "  \n",
    "  for i in list(range(4)):\n",
    "    conn.sql(f\"\"\"\n",
    "    CREATE OR REPLACE TABLE '{new_tables[i]}' AS\n",
    "    SELECT\n",
    "      id\n",
    "      ,enroll_season\n",
    "      ,age\n",
    "      ,sex\n",
    "      ,sii\n",
    "      ,AVG(light) AS '{quartuples.index[i]}'\n",
    "    FROM \n",
    "      ActigraphyTrain\n",
    "    WHERE \n",
    "      hour_of_day BETWEEN \n",
    "          '{quarters[quartuples.iloc[i][0]]}'::DOUBLE \n",
    "        AND \n",
    "          '{quarters[quartuples.iloc[i][1]]}'::DOUBLE\n",
    "    GROUP BY \n",
    "      ALL\n",
    "    ORDER BY \n",
    "      id ASC;\n",
    "    \"\"\")"
   ],
   "id": "59a5c53c-ca37-4528-a305-0a486de39f9f"
  },
  {
   "cell_type": "code",
   "execution_count": null,
   "metadata": {},
   "outputs": [
    {
     "output_type": "stream",
     "name": "stdout",
     "text": [
      "┌─────────┐\n",
      "│ Success │\n",
      "│ boolean │\n",
      "├─────────┤\n",
      "│ 0 rows  │\n",
      "└─────────┘"
     ]
    }
   ],
   "source": [
    "new_tables = ['Light1', 'Light2', 'Light3', 'Light4']\n",
    "intermediateLighter(conn, new_tables, quarters, quartuples)\n",
    "conn.sql(f\"CHECKPOINT;\")"
   ],
   "id": "6fab9d47-3c20-48df-8539-d6bb9d34465d"
  },
  {
   "cell_type": "code",
   "execution_count": null,
   "metadata": {},
   "outputs": [
    {
     "output_type": "stream",
     "name": "stdout",
     "text": [
      "┌─────────┐\n",
      "│ Success │\n",
      "│ boolean │\n",
      "├─────────┤\n",
      "│ 0 rows  │\n",
      "└─────────┘"
     ]
    }
   ],
   "source": [
    "conn.sql(f\"\"\"\n",
    "CREATE OR REPLACE TABLE AggregatedAnalysis AS\n",
    "SELECT \n",
    "  l1.*\n",
    "  ,l2.q1_q2\n",
    "  ,l3.q2_q3\n",
    "  ,l4.q3_max\n",
    "FROM \n",
    "  Light1 l1\n",
    "LEFT JOIN Light2 l2 ON l1.id = l2.id\n",
    "LEFT JOIN Light3 l3 ON l1.id = l3.id\n",
    "LEFT JOIN Light4 l4 ON l1.id = l4.id;\n",
    "\"\"\")\n",
    "\n",
    "conn.sql(f\"CHECKPOINT;\")"
   ],
   "id": "37dfde42-198b-41b7-a9da-02734154bc9f"
  },
  {
   "cell_type": "code",
   "execution_count": null,
   "metadata": {},
   "outputs": [
    {
     "output_type": "stream",
     "name": "stdout",
     "text": [
      "          id enroll_season age  ...       q1_q2       q2_q3     q3_max\n",
      "0   00115b9f        Winter   9  ...   61.598175   52.751816  17.028899\n",
      "1   001f3379        Spring  13  ...   38.888096   27.347464   3.427287\n",
      "2   00f332d1        Winter  14  ...   70.715782  171.973113  20.071337\n",
      "3   012e3869        Summer   6  ...   21.508371   14.481548  11.506686\n",
      "4   029a19c9        Winter  17  ...   58.939554   35.558205   7.527847\n",
      "5   02cebf33        Spring  12  ...   21.777184   44.795054  52.640018\n",
      "6   02cf7384        Summer  16  ...   21.493338   24.073275   7.112587\n",
      "7   035c96dd        Summer  13  ...   16.632181   19.231159  14.557280\n",
      "8   0417c91e        Spring   6  ...  132.319225  197.593949  17.053696\n",
      "9   04afb6f9        Summer  17  ...   19.530917   19.757721  10.801692\n",
      "10  04bb1a76        Winter   9  ...    6.873172    7.230197   6.914000\n",
      "11  04d06a9c          Fall  10  ...   21.100691   29.801872  15.415018\n",
      "12  051680a0        Winter   7  ...  132.766212  244.544484  42.694900\n",
      "13  055156e2        Summer  12  ...   31.630828   27.566469  12.964960\n",
      "14  05db1b9b        Spring   8  ...   67.801808   60.521537   4.864751\n",
      "15  05e94f88        Summer  10  ...    4.367119    2.980977   2.504395\n",
      "16  063b16fc        Spring  10  ...  119.177506  121.367623  12.889071\n",
      "17  064e8da5        Spring   5  ...   65.018140   59.609439  12.166769\n",
      "18  0668373f        Winter   9  ...  118.037906  149.186439   5.072283\n",
      "19  067b9287        Spring   7  ...   13.767201   24.280921   9.309501\n",
      "\n",
      "[20 rows x 9 columns]"
     ]
    }
   ],
   "source": [
    "conn.sql(f\"SELECT * FROM AggregatedAnalysis LIMIT 20;\").df()"
   ],
   "id": "99bac0e2-ada5-4e77-8451-acc2ab2b4787"
  },
  {
   "cell_type": "code",
   "execution_count": null,
   "metadata": {},
   "outputs": [],
   "source": [
    "conn.sql(f\"\"\"\n",
    "CREATE OR REPLACE TABLE AggregatedAnalysis AS\n",
    "SELECT\n",
    "  aa.*\n",
    "  ,preint_eduhx_computerinternet_hoursday AS useHrs \n",
    "FROM\n",
    "  AggregatedAnalysis aa\n",
    "LEFT JOIN \n",
    "  InternetUse iu\n",
    "ON\n",
    "  aa.id = iu.id;\n",
    "\"\"\")"
   ],
   "id": "343d9e9d-591c-458f-ab32-992d5d4e3589"
  },
  {
   "cell_type": "code",
   "execution_count": null,
   "metadata": {},
   "outputs": [
    {
     "output_type": "stream",
     "name": "stdout",
     "text": [
      "count    981.000000\n",
      "mean       1.018349\n",
      "std        1.092493\n",
      "min        0.000000\n",
      "25%        0.000000\n",
      "50%        1.000000\n",
      "75%        2.000000\n",
      "max        3.000000\n",
      "Name: useHrs, dtype: float64"
     ]
    }
   ],
   "source": [
    "all_aa = conn.sql(f\"SELECT * FROM AggregatedAnalysis;\").df()\n",
    "all_aa['useHrs'].describe()"
   ],
   "id": "89632f41-2aaf-4c97-9890-a42624811aae"
  },
  {
   "cell_type": "code",
   "execution_count": null,
   "metadata": {},
   "outputs": [
    {
     "output_type": "stream",
     "name": "stdout",
     "text": [
      "  column_name column_type  min  ...  q75  count null_percentage\n",
      "0      useHrs      DOUBLE  0.0  ...  2.0    992            1.11\n",
      "\n",
      "[1 rows x 12 columns]"
     ]
    }
   ],
   "source": [
    "conn.sql(f\"\"\"\n",
    "SUMMARIZE\n",
    "SELECT useHrs\n",
    "FROM AggregatedAnalysis;\n",
    "\"\"\").df()"
   ],
   "id": "72de6865-1cff-48c8-b04f-62be2432cac8"
  },
  {
   "cell_type": "code",
   "execution_count": null,
   "metadata": {},
   "outputs": [],
   "source": [
    "riskyDictionary = {\n",
    "  'Risk1': \n",
    "    (f\",CASE WHEN ph.physical_bmi < 18.5 THEN 'Underweight'\"\n",
    "    ,f\"WHEN ph.physical_bmi BETWEEN 18.5 AND 24.9 THEN 'Normal'\"\n",
    "    ,f\"WHEN ph.physical_bmi BETWEEN 25.0 AND 29.9 THEN 'Increased'\"\n",
    "    ,f\"WHEN ph.physical_bmi BETWEEN 30.0 AND 34.9 THEN 'High'\"\n",
    "    ,f\"WHEN ph.physical_bmi BETWEEN 35.0 AND 39.9 THEN 'Very High'\"\n",
    "    ,f\"WHEN ph.physical_bmi >= 40 THEN 'Extremely High'\"\n",
    "    ,f\"ph.physical_waist_circumference <= 35 AND aa.sex = '0'\"),\n",
    "  'Risk2':\n",
    "    (f\",CASE WHEN ph.physical_bmi < 18.5 THEN 'Underweight'\"\n",
    "    ,f\"WHEN ph.physical_bmi BETWEEN 18.5 AND 24.9 THEN 'Normal'\"\n",
    "    ,f\"WHEN ph.physical_bmi BETWEEN 25.0 AND 29.9 THEN 'High'\"\n",
    "    ,f\"WHEN ph.physical_bmi BETWEEN 30.0 AND 34.9 THEN 'Very High'\"\n",
    "    ,f\"WHEN ph.physical_bmi BETWEEN 35.0 AND 39.9 THEN 'Very High'\"\n",
    "    ,f\"WHEN ph.physical_bmi >= 40 THEN 'Extremely High'\"\n",
    "    ,f\"ph.physical_waist_circumference > 35 AND aa.sex = '0'\"),\n",
    "  'Risk3':\n",
    "    (f\",CASE WHEN ph.physical_bmi < 18.5 THEN 'Underweight'\"\n",
    "    ,f\"WHEN ph.physical_bmi BETWEEN 18.5 AND 24.9 THEN 'Normal'\"\n",
    "    ,f\"WHEN ph.physical_bmi BETWEEN 25.0 AND 29.9 THEN 'Increased'\"\n",
    "    ,f\"WHEN ph.physical_bmi BETWEEN 30.0 AND 34.9 THEN 'High'\"\n",
    "    ,f\"WHEN ph.physical_bmi BETWEEN 35.0 AND 39.9 THEN 'Very High'\"\n",
    "    ,f\"WHEN ph.physical_bmi >= 40 THEN 'Extremely High'\"\n",
    "    ,f\"ph.physical_waist_circumference <= 40 AND aa.sex = '1'\"),\n",
    "  'Risk4':\n",
    "    (f\",CASE WHEN ph.physical_bmi < 18.5 THEN 'Underweight'\"\n",
    "    ,f\"WHEN ph.physical_bmi BETWEEN 18.5 AND 24.9 THEN 'Normal'\"\n",
    "    ,f\"WHEN ph.physical_bmi BETWEEN 25.0 AND 29.9 THEN 'High'\"\n",
    "    ,f\"WHEN ph.physical_bmi BETWEEN 30.0 AND 34.9 THEN 'Very High'\"\n",
    "    ,f\"WHEN ph.physical_bmi BETWEEN 35.0 AND 39.9 THEN 'Very High'\"\n",
    "    ,f\"WHEN ph.physical_bmi >= 40 THEN 'Extremely High'\"\n",
    "    ,f\"ph.physical_waist_circumference > 40 AND aa.sex = '1'\")}"
   ],
   "id": "50a68e79-d1a1-4b43-b74c-1a6fea3c576c"
  },
  {
   "cell_type": "code",
   "execution_count": null,
   "metadata": {},
   "outputs": [],
   "source": [
    "riskyDf = pd.DataFrame(data = riskyDictionary)"
   ],
   "id": "8d64be4d-fb38-4dbd-8f00-10edbb628b00"
  },
  {
   "cell_type": "code",
   "execution_count": null,
   "metadata": {},
   "outputs": [
    {
     "output_type": "stream",
     "name": "stdout",
     "text": [
      "Successfully created table: Risk1, Row count: 24\n",
      "Successfully created table: Risk2, Row count: 1\n",
      "Successfully created table: Risk3, Row count: 20\n",
      "Successfully created table: Risk4, Row count: 2"
     ]
    },
    {
     "output_type": "stream",
     "name": "stdout",
     "text": [
      "┌─────────┐\n",
      "│ Success │\n",
      "│ boolean │\n",
      "├─────────┤\n",
      "│ 0 rows  │\n",
      "└─────────┘"
     ]
    }
   ],
   "source": [
    "for key, value in riskyDf.items():\n",
    "  try:\n",
    "    conn.sql(f\"\"\"\n",
    "    CREATE OR REPLACE TABLE {key} AS\n",
    "    SELECT\n",
    "      aa.*\n",
    "      {value[0]}\n",
    "      {value[1]}\n",
    "      {value[2]}\n",
    "      {value[3]}\n",
    "      {value[4]}\n",
    "      {value[5]}\n",
    "      ELSE NULL\n",
    "      END AS risk_cat\n",
    "    ,risk_cat::disease_risk_enum AS risk_category\n",
    "    FROM \n",
    "      Physical ph \n",
    "    LEFT JOIN \n",
    "      AggregatedAnalysis aa \n",
    "    ON \n",
    "      aa.id = ph.id\n",
    "    WHERE \n",
    "      {value[6]}\n",
    "    ORDER BY \n",
    "      aa.id ASC;\"\"\")\n",
    "    result = conn.execute(f\"SELECT COUNT(*) FROM {key}\").fetchone()\n",
    "    print(f\"Successfully created table: {key}, Row count: {result[0]}\")\n",
    "  except:\n",
    "    print(f\"Error loading this table: {key}\")"
   ],
   "id": "42a4d278-59de-4af9-9696-8826ab603b39"
  },
  {
   "cell_type": "code",
   "execution_count": null,
   "metadata": {},
   "outputs": [],
   "source": [
    "conn.sql(f\"\"\"\n",
    "CREATE OR REPLACE TABLE \n",
    "  DiseaseRiskDemographic AS\n",
    "SELECT * EXCLUDE(risk_cat) FROM Risk1\n",
    "UNION BY NAME\n",
    "SELECT * EXCLUDE(risk_cat) FROM Risk2\n",
    "UNION BY NAME\n",
    "SELECT * EXCLUDE(risk_cat) FROM Risk3\n",
    "UNION BY NAME \n",
    "SELECT * EXCLUDE(risk_cat) FROM Risk4;\n",
    "\"\"\")"
   ],
   "id": "3fdee377-ceb7-43ec-9663-e90e57c94fef"
  },
  {
   "cell_type": "code",
   "execution_count": null,
   "metadata": {},
   "outputs": [],
   "source": [
    "#%%sql\n",
    "conn.sql(f\"\"\"\n",
    "CREATE OR REPLACE TABLE RiskCategorySummary AS\n",
    "SELECT \n",
    "  risk_category\n",
    "  ,AVG(sii::INTEGER) AS sii\n",
    "  ,AVG(useHrs) AS useHrs\n",
    "  ,AVG(min_q1) AS q1_avg_light_exposure\n",
    "  ,AVG(q1_q2) AS q2_avg_light_exposure\n",
    "  ,AVG(q2_q3) AS q3_avg_light_exposure\n",
    "  ,AVG(q3_max) AS q4_avg_light_exposure\n",
    "FROM \n",
    "  DiseaseRiskDemographic\n",
    "GROUP BY \n",
    "  risk_category;\n",
    "\"\"\")"
   ],
   "id": "760db3de-9efa-419d-8710-a61a0650ae36"
  },
  {
   "cell_type": "code",
   "execution_count": null,
   "metadata": {},
   "outputs": [
    {
     "output_type": "stream",
     "name": "stdout",
     "text": [
      "    risk_category       sii  ...  q3_avg_light_exposure  q4_avg_light_exposure\n",
      "0     Underweight  0.242424  ...             115.302923              13.184818\n",
      "1          Normal  0.500000  ...              90.398979              30.341287\n",
      "2       Increased  0.000000  ...              81.097121               8.060766\n",
      "3       Very High  0.500000  ...              65.692813              19.520294\n",
      "4  Extremely High  0.000000  ...             117.726100              24.965206\n",
      "\n",
      "[5 rows x 7 columns]"
     ]
    }
   ],
   "source": [
    "conn.sql(f\"\"\"\n",
    "SELECT * \n",
    "FROM RiskCategorySummary;\n",
    "\"\"\").df()"
   ],
   "id": "70b35963-f58e-4900-9ecb-0995ba6a4f2b"
  },
  {
   "cell_type": "code",
   "execution_count": null,
   "metadata": {},
   "outputs": [],
   "source": [
    "riskdf = conn.execute(f\"\"\"\n",
    "SELECT \n",
    "  risk_category\n",
    "  ,AVG(min_q1) AS qLight\n",
    "FROM \n",
    "  DiseaseRiskDemographic\n",
    "GROUP BY \n",
    "  risk_category;\"\"\").df()"
   ],
   "id": "41f0e6bd-29cc-4d8e-9fd0-982cb116c0c8"
  },
  {
   "cell_type": "code",
   "execution_count": null,
   "metadata": {},
   "outputs": [
    {
     "output_type": "display_data",
     "metadata": {},
     "data": {
      "image/png": "[encoded data removed]"
     }
    }
   ],
   "source": [
    "library(reticulate)\n",
    "library(ggplot2)\n",
    "\n",
    "ggplot(data = py$riskdf, \n",
    "       aes(x = risk_category, y = qLight)) +\n",
    "  geom_col(fill = 'skyblue') +\n",
    "  labs(title='Risk Categories', \n",
    "       x='Category', y='Light Exposure')  +\n",
    "  coord_flip() +\n",
    "  ggplot2::theme(\n",
    "    plot.background = element_rect(fill = \"black\"),\n",
    "    panel.grid = element_line(linetype = 'dotted'),\n",
    "    panel.grid.major.x = element_line(linetype = 'dashed'),\n",
    "    panel.background = element_rect(fill = 'black'),\n",
    "    text = element_text(color = 'yellow'),\n",
    "    axis.text = element_text(color = 'gray'))"
   ],
   "id": "3cad994f-9c77-4c39-98e4-61caea9ecdc3"
  },
  {
   "cell_type": "code",
   "execution_count": null,
   "metadata": {},
   "outputs": [
    {
     "output_type": "display_data",
     "metadata": {},
     "data": {
      "image/png": "[encoded data removed]"
     }
    }
   ],
   "source": [
    "from sql.ggplot import *\n",
    "from plotnine import *\n",
    "# for some reason, the imports above have to be in that order\n",
    "# this is the jupysql way of plotting, in part\n",
    "\n",
    "(\n",
    "   ggplot(\n",
    "    data = riskdf,\n",
    "    mapping = aes(x = 'risk_category', y = 'qLight')) \n",
    " + geom_col(stat = \"identity\", fill = \"skyblue\") \n",
    " + labs(title='Risk Categories', x='Category', y='Light Exposure') \n",
    " + coord_flip() \n",
    " + theme(\n",
    "    plot_background=element_rect(fill = \"black\"),\n",
    "    panel_grid=element_line(linetype='dotted'),\n",
    "    panel_grid_major_x=element_line(linetype='dashed'),\n",
    "    panel_background=element_rect(fill='black'),\n",
    "    text=element_text(color='white'))\n",
    "    ).show()"
   ],
   "id": "034397bb-2f22-4f86-96a6-6ec76941d887"
  },
  {
   "cell_type": "markdown",
   "metadata": {},
   "source": [
    "## Close Connection"
   ],
   "id": "6063c9f9-574c-4b0b-878b-32a72adb1d4e"
  },
  {
   "cell_type": "code",
   "execution_count": null,
   "metadata": {},
   "outputs": [],
   "source": [
    "conn.close()"
   ],
   "id": "3dec6216-f88a-4487-b203-46be5b7c61cd"
  }
 ],
 "nbformat": 4,
 "nbformat_minor": 5,
 "metadata": {}
}
